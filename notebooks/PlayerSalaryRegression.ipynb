{
 "cells": [
  {
   "cell_type": "markdown",
   "id": "5d22971a",
   "metadata": {
    "_cell_guid": "b1076dfc-b9ad-4769-8c92-a6c4dae69d19",
    "_uuid": "8f2839f25d086af736a60e9eeb907d3b93b6e0e5",
    "papermill": {
     "duration": 0.034584,
     "end_time": "2021-11-03T08:21:14.598238",
     "exception": false,
     "start_time": "2021-11-03T08:21:14.563654",
     "status": "completed"
    },
    "tags": []
   },
   "source": [
    "# End-to-End Hitters Machine Learning "
   ]
  },
  {
   "cell_type": "markdown",
   "id": "feadce13",
   "metadata": {
    "papermill": {
     "duration": 0.027996,
     "end_time": "2021-11-03T08:21:14.659225",
     "exception": false,
     "start_time": "2021-11-03T08:21:14.631229",
     "status": "completed"
    },
    "tags": []
   },
   "source": [
    "\n",
    "    \n",
    "Estimating baseball players salary applying machine learning algoritms on hitters dataset\n",
    "1.  [**Exploratory Data Analysis**](#1)\n",
    "2.  [**Data Preprocessing & Feature Engineering**](#2)\n",
    "3.  [**Base Models**](#3)\n",
    "4.  [**Automated Hyperparameter Optimization**](#4)\n",
    "5.  [**Stacking & Ensemble Learning**](#5)\n",
    "6.  [**Prediction for a New Observation**](#6)\n"
   ]
  },
  {
   "cell_type": "markdown",
   "id": "faf2f85a",
   "metadata": {
    "papermill": {
     "duration": 0.028053,
     "end_time": "2021-11-03T08:21:14.716316",
     "exception": false,
     "start_time": "2021-11-03T08:21:14.688263",
     "status": "completed"
    },
    "tags": []
   },
   "source": [
    "# Format\n",
    "* A data frame with 322 observations of major league players on the following 20 variables.\n",
    "* AtBat Number of times at bat in 1986\n",
    "* Hits Number of hits in 1986\n",
    "* HmRun Number of home runs in 1986\n",
    "* Runs Number of runs in 1986\n",
    "* RBI Number of runs batted in in 1986\n",
    "* Walks Number of walks in 1986\n",
    "* Years Number of years in the major leagues\n",
    "* CAtBat Number of times at bat during his career\n",
    "* CHits Number of hits during his career\n",
    "* CHmRun Number of home runs during his career\n",
    "* CRuns Number of runs during his career\n",
    "* CRBI Number of runs batted in during his career\n",
    "* CWalks Number of walks during his career\n",
    "* League A factor with levels A and N indicating player’s league at the end of 1986\n",
    "* Division A factor with levels E and W indicating player’s division at the end of 1986\n",
    "* PutOuts Number of put outs in 1986\n",
    "* Assists Number of assists in 1986\n",
    "* Errors Number of errors in 1986\n",
    "* Salary 1987 annual salary on opening day in thousands of dollars\n",
    "* NewLeague A factor with levels A and N indicating player’s league at the beginning of 1987"
   ]
  },
  {
   "cell_type": "code",
   "execution_count": 1,
   "id": "dd8aaf2d",
   "metadata": {
    "execution": {
     "iopub.execute_input": "2021-11-03T08:21:14.781001Z",
     "iopub.status.busy": "2021-11-03T08:21:14.780077Z",
     "iopub.status.idle": "2021-11-03T08:21:17.191365Z",
     "shell.execute_reply": "2021-11-03T08:21:17.190575Z",
     "shell.execute_reply.started": "2021-11-03T06:19:13.481054Z"
    },
    "papermill": {
     "duration": 2.446844,
     "end_time": "2021-11-03T08:21:17.191522",
     "exception": false,
     "start_time": "2021-11-03T08:21:14.744678",
     "status": "completed"
    },
    "tags": []
   },
   "outputs": [
    {
     "data": {
      "text/html": [
       "<style type='text/css'>\n",
       ".datatable table.frame { margin-bottom: 0; }\n",
       ".datatable table.frame thead { border-bottom: none; }\n",
       ".datatable table.frame tr.coltypes td {  color: #FFFFFF;  line-height: 6px;  padding: 0 0.5em;}\n",
       ".datatable .bool    { background: #DDDD99; }\n",
       ".datatable .object  { background: #565656; }\n",
       ".datatable .int     { background: #5D9E5D; }\n",
       ".datatable .float   { background: #4040CC; }\n",
       ".datatable .str     { background: #CC4040; }\n",
       ".datatable .time    { background: #40CC40; }\n",
       ".datatable .row_index {  background: var(--jp-border-color3);  border-right: 1px solid var(--jp-border-color0);  color: var(--jp-ui-font-color3);  font-size: 9px;}\n",
       ".datatable .frame tbody td { text-align: left; }\n",
       ".datatable .frame tr.coltypes .row_index {  background: var(--jp-border-color0);}\n",
       ".datatable th:nth-child(2) { padding-left: 12px; }\n",
       ".datatable .hellipsis {  color: var(--jp-cell-editor-border-color);}\n",
       ".datatable .vellipsis {  background: var(--jp-layout-color0);  color: var(--jp-cell-editor-border-color);}\n",
       ".datatable .na {  color: var(--jp-cell-editor-border-color);  font-size: 80%;}\n",
       ".datatable .sp {  opacity: 0.25;}\n",
       ".datatable .footer { font-size: 9px; }\n",
       ".datatable .frame_dimensions {  background: var(--jp-border-color3);  border-top: 1px solid var(--jp-border-color0);  color: var(--jp-ui-font-color3);  display: inline-block;  opacity: 0.6;  padding: 1px 10px 1px 5px;}\n",
       "</style>\n"
      ],
      "text/plain": [
       "<IPython.core.display.HTML object>"
      ]
     },
     "metadata": {},
     "output_type": "display_data"
    }
   ],
   "source": [
    "\n",
    "import warnings\n",
    "import pandas as pd\n",
    "import numpy as np\n",
    "warnings.simplefilter(action='ignore', category=Warning)\n",
    "import joblib\n",
    "import seaborn as sns\n",
    "import matplotlib.pyplot as plt\n",
    "from sklearn.preprocessing import LabelEncoder\n",
    "from sklearn.metrics import mean_squared_error\n",
    "from sklearn.model_selection import GridSearchCV, cross_val_score\n",
    "from sklearn.ensemble import RandomForestRegressor, GradientBoostingRegressor, VotingRegressor\n",
    "\n",
    "# linear models\n",
    "from sklearn.linear_model import LinearRegression, Ridge, Lasso, ElasticNet\n",
    "# non-linear models\n",
    "from sklearn.neighbors import KNeighborsRegressor\n",
    "from sklearn.svm import SVR\n",
    "from sklearn.tree import DecisionTreeRegressor\n",
    "from sklearn.ensemble import RandomForestRegressor, GradientBoostingRegressor\n",
    "from xgboost import XGBRegressor\n",
    "from lightgbm import LGBMRegressor\n"
   ]
  },
  {
   "cell_type": "code",
   "execution_count": 2,
   "id": "656ed2c6",
   "metadata": {
    "execution": {
     "iopub.execute_input": "2021-11-03T08:21:17.256952Z",
     "iopub.status.busy": "2021-11-03T08:21:17.254886Z",
     "iopub.status.idle": "2021-11-03T08:21:17.259610Z",
     "shell.execute_reply": "2021-11-03T08:21:17.259131Z",
     "shell.execute_reply.started": "2021-11-03T06:19:15.894767Z"
    },
    "papermill": {
     "duration": 0.036313,
     "end_time": "2021-11-03T08:21:17.259781",
     "exception": false,
     "start_time": "2021-11-03T08:21:17.223468",
     "status": "completed"
    },
    "tags": []
   },
   "outputs": [],
   "source": [
    "pd.set_option('display.max_columns', None)\n",
    "pd.set_option('display.max_rows', None)\n",
    "pd.set_option('display.width', 500)"
   ]
  },
  {
   "cell_type": "code",
   "execution_count": 3,
   "id": "d7742acc",
   "metadata": {
    "execution": {
     "iopub.execute_input": "2021-11-03T08:21:17.321466Z",
     "iopub.status.busy": "2021-11-03T08:21:17.320630Z",
     "iopub.status.idle": "2021-11-03T08:21:17.364533Z",
     "shell.execute_reply": "2021-11-03T08:21:17.365061Z",
     "shell.execute_reply.started": "2021-11-03T06:19:15.901204Z"
    },
    "papermill": {
     "duration": 0.076984,
     "end_time": "2021-11-03T08:21:17.365231",
     "exception": false,
     "start_time": "2021-11-03T08:21:17.288247",
     "status": "completed"
    },
    "tags": []
   },
   "outputs": [
    {
     "data": {
      "text/html": [
       "<div>\n",
       "<style scoped>\n",
       "    .dataframe tbody tr th:only-of-type {\n",
       "        vertical-align: middle;\n",
       "    }\n",
       "\n",
       "    .dataframe tbody tr th {\n",
       "        vertical-align: top;\n",
       "    }\n",
       "\n",
       "    .dataframe thead th {\n",
       "        text-align: right;\n",
       "    }\n",
       "</style>\n",
       "<table border=\"1\" class=\"dataframe\">\n",
       "  <thead>\n",
       "    <tr style=\"text-align: right;\">\n",
       "      <th></th>\n",
       "      <th>AtBat</th>\n",
       "      <th>Hits</th>\n",
       "      <th>HmRun</th>\n",
       "      <th>Runs</th>\n",
       "      <th>RBI</th>\n",
       "      <th>Walks</th>\n",
       "      <th>Years</th>\n",
       "      <th>CAtBat</th>\n",
       "      <th>CHits</th>\n",
       "      <th>CHmRun</th>\n",
       "      <th>CRuns</th>\n",
       "      <th>CRBI</th>\n",
       "      <th>CWalks</th>\n",
       "      <th>League</th>\n",
       "      <th>Division</th>\n",
       "      <th>PutOuts</th>\n",
       "      <th>Assists</th>\n",
       "      <th>Errors</th>\n",
       "      <th>Salary</th>\n",
       "      <th>NewLeague</th>\n",
       "    </tr>\n",
       "  </thead>\n",
       "  <tbody>\n",
       "    <tr>\n",
       "      <th>0</th>\n",
       "      <td>293</td>\n",
       "      <td>66</td>\n",
       "      <td>1</td>\n",
       "      <td>30</td>\n",
       "      <td>29</td>\n",
       "      <td>14</td>\n",
       "      <td>1</td>\n",
       "      <td>293</td>\n",
       "      <td>66</td>\n",
       "      <td>1</td>\n",
       "      <td>30</td>\n",
       "      <td>29</td>\n",
       "      <td>14</td>\n",
       "      <td>A</td>\n",
       "      <td>E</td>\n",
       "      <td>446</td>\n",
       "      <td>33</td>\n",
       "      <td>20</td>\n",
       "      <td>NaN</td>\n",
       "      <td>A</td>\n",
       "    </tr>\n",
       "    <tr>\n",
       "      <th>1</th>\n",
       "      <td>315</td>\n",
       "      <td>81</td>\n",
       "      <td>7</td>\n",
       "      <td>24</td>\n",
       "      <td>38</td>\n",
       "      <td>39</td>\n",
       "      <td>14</td>\n",
       "      <td>3449</td>\n",
       "      <td>835</td>\n",
       "      <td>69</td>\n",
       "      <td>321</td>\n",
       "      <td>414</td>\n",
       "      <td>375</td>\n",
       "      <td>N</td>\n",
       "      <td>W</td>\n",
       "      <td>632</td>\n",
       "      <td>43</td>\n",
       "      <td>10</td>\n",
       "      <td>475.0</td>\n",
       "      <td>N</td>\n",
       "    </tr>\n",
       "    <tr>\n",
       "      <th>2</th>\n",
       "      <td>479</td>\n",
       "      <td>130</td>\n",
       "      <td>18</td>\n",
       "      <td>66</td>\n",
       "      <td>72</td>\n",
       "      <td>76</td>\n",
       "      <td>3</td>\n",
       "      <td>1624</td>\n",
       "      <td>457</td>\n",
       "      <td>63</td>\n",
       "      <td>224</td>\n",
       "      <td>266</td>\n",
       "      <td>263</td>\n",
       "      <td>A</td>\n",
       "      <td>W</td>\n",
       "      <td>880</td>\n",
       "      <td>82</td>\n",
       "      <td>14</td>\n",
       "      <td>480.0</td>\n",
       "      <td>A</td>\n",
       "    </tr>\n",
       "    <tr>\n",
       "      <th>3</th>\n",
       "      <td>496</td>\n",
       "      <td>141</td>\n",
       "      <td>20</td>\n",
       "      <td>65</td>\n",
       "      <td>78</td>\n",
       "      <td>37</td>\n",
       "      <td>11</td>\n",
       "      <td>5628</td>\n",
       "      <td>1575</td>\n",
       "      <td>225</td>\n",
       "      <td>828</td>\n",
       "      <td>838</td>\n",
       "      <td>354</td>\n",
       "      <td>N</td>\n",
       "      <td>E</td>\n",
       "      <td>200</td>\n",
       "      <td>11</td>\n",
       "      <td>3</td>\n",
       "      <td>500.0</td>\n",
       "      <td>N</td>\n",
       "    </tr>\n",
       "    <tr>\n",
       "      <th>4</th>\n",
       "      <td>321</td>\n",
       "      <td>87</td>\n",
       "      <td>10</td>\n",
       "      <td>39</td>\n",
       "      <td>42</td>\n",
       "      <td>30</td>\n",
       "      <td>2</td>\n",
       "      <td>396</td>\n",
       "      <td>101</td>\n",
       "      <td>12</td>\n",
       "      <td>48</td>\n",
       "      <td>46</td>\n",
       "      <td>33</td>\n",
       "      <td>N</td>\n",
       "      <td>E</td>\n",
       "      <td>805</td>\n",
       "      <td>40</td>\n",
       "      <td>4</td>\n",
       "      <td>91.5</td>\n",
       "      <td>N</td>\n",
       "    </tr>\n",
       "  </tbody>\n",
       "</table>\n",
       "</div>"
      ],
      "text/plain": [
       "   AtBat  Hits  HmRun  Runs  RBI  Walks  Years  CAtBat  CHits  CHmRun  CRuns  CRBI  CWalks League Division  PutOuts  Assists  Errors  Salary NewLeague\n",
       "0    293    66      1    30   29     14      1     293     66       1     30    29      14      A        E      446       33      20     NaN         A\n",
       "1    315    81      7    24   38     39     14    3449    835      69    321   414     375      N        W      632       43      10   475.0         N\n",
       "2    479   130     18    66   72     76      3    1624    457      63    224   266     263      A        W      880       82      14   480.0         A\n",
       "3    496   141     20    65   78     37     11    5628   1575     225    828   838     354      N        E      200       11       3   500.0         N\n",
       "4    321    87     10    39   42     30      2     396    101      12     48    46      33      N        E      805       40       4    91.5         N"
      ]
     },
     "execution_count": 3,
     "metadata": {},
     "output_type": "execute_result"
    }
   ],
   "source": [
    "\n",
    "df = pd.read_csv(\"../input/hitters/Hitters.csv\")\n",
    "df.head()"
   ]
  },
  {
   "cell_type": "markdown",
   "id": "1dff8712",
   "metadata": {
    "papermill": {
     "duration": 0.02881,
     "end_time": "2021-11-03T08:21:17.424192",
     "exception": false,
     "start_time": "2021-11-03T08:21:17.395382",
     "status": "completed"
    },
    "tags": []
   },
   "source": [
    "\n",
    "# 1. Explanatory Data Analysis\n"
   ]
  },
  {
   "cell_type": "code",
   "execution_count": 4,
   "id": "3828c0d8",
   "metadata": {
    "execution": {
     "iopub.execute_input": "2021-11-03T08:21:17.493418Z",
     "iopub.status.busy": "2021-11-03T08:21:17.492666Z",
     "iopub.status.idle": "2021-11-03T08:21:17.573282Z",
     "shell.execute_reply": "2021-11-03T08:21:17.573822Z",
     "shell.execute_reply.started": "2021-11-03T06:19:15.957987Z"
    },
    "papermill": {
     "duration": 0.119767,
     "end_time": "2021-11-03T08:21:17.574002",
     "exception": false,
     "start_time": "2021-11-03T08:21:17.454235",
     "status": "completed"
    },
    "tags": []
   },
   "outputs": [
    {
     "name": "stdout",
     "output_type": "stream",
     "text": [
      "<class 'pandas.core.frame.DataFrame'>\n",
      "RangeIndex: 322 entries, 0 to 321\n",
      "Data columns (total 20 columns):\n",
      " #   Column     Non-Null Count  Dtype  \n",
      "---  ------     --------------  -----  \n",
      " 0   AtBat      322 non-null    int64  \n",
      " 1   Hits       322 non-null    int64  \n",
      " 2   HmRun      322 non-null    int64  \n",
      " 3   Runs       322 non-null    int64  \n",
      " 4   RBI        322 non-null    int64  \n",
      " 5   Walks      322 non-null    int64  \n",
      " 6   Years      322 non-null    int64  \n",
      " 7   CAtBat     322 non-null    int64  \n",
      " 8   CHits      322 non-null    int64  \n",
      " 9   CHmRun     322 non-null    int64  \n",
      " 10  CRuns      322 non-null    int64  \n",
      " 11  CRBI       322 non-null    int64  \n",
      " 12  CWalks     322 non-null    int64  \n",
      " 13  League     322 non-null    object \n",
      " 14  Division   322 non-null    object \n",
      " 15  PutOuts    322 non-null    int64  \n",
      " 16  Assists    322 non-null    int64  \n",
      " 17  Errors     322 non-null    int64  \n",
      " 18  Salary     263 non-null    float64\n",
      " 19  NewLeague  322 non-null    object \n",
      "dtypes: float64(1), int64(16), object(3)\n",
      "memory usage: 50.4+ KB\n"
     ]
    },
    {
     "data": {
      "text/html": [
       "<div>\n",
       "<style scoped>\n",
       "    .dataframe tbody tr th:only-of-type {\n",
       "        vertical-align: middle;\n",
       "    }\n",
       "\n",
       "    .dataframe tbody tr th {\n",
       "        vertical-align: top;\n",
       "    }\n",
       "\n",
       "    .dataframe thead th {\n",
       "        text-align: right;\n",
       "    }\n",
       "</style>\n",
       "<table border=\"1\" class=\"dataframe\">\n",
       "  <thead>\n",
       "    <tr style=\"text-align: right;\">\n",
       "      <th></th>\n",
       "      <th>count</th>\n",
       "      <th>mean</th>\n",
       "      <th>std</th>\n",
       "      <th>min</th>\n",
       "      <th>5%</th>\n",
       "      <th>25%</th>\n",
       "      <th>50%</th>\n",
       "      <th>75%</th>\n",
       "      <th>95%</th>\n",
       "      <th>99%</th>\n",
       "      <th>max</th>\n",
       "    </tr>\n",
       "  </thead>\n",
       "  <tbody>\n",
       "    <tr>\n",
       "      <th>AtBat</th>\n",
       "      <td>322.0</td>\n",
       "      <td>380.928571</td>\n",
       "      <td>153.404981</td>\n",
       "      <td>16.0</td>\n",
       "      <td>161.00</td>\n",
       "      <td>255.25</td>\n",
       "      <td>379.5</td>\n",
       "      <td>512.00</td>\n",
       "      <td>609.90</td>\n",
       "      <td>658.59000</td>\n",
       "      <td>687.0</td>\n",
       "    </tr>\n",
       "    <tr>\n",
       "      <th>Hits</th>\n",
       "      <td>322.0</td>\n",
       "      <td>101.024845</td>\n",
       "      <td>46.454741</td>\n",
       "      <td>1.0</td>\n",
       "      <td>39.00</td>\n",
       "      <td>64.00</td>\n",
       "      <td>96.0</td>\n",
       "      <td>137.00</td>\n",
       "      <td>174.00</td>\n",
       "      <td>210.79000</td>\n",
       "      <td>238.0</td>\n",
       "    </tr>\n",
       "    <tr>\n",
       "      <th>HmRun</th>\n",
       "      <td>322.0</td>\n",
       "      <td>10.770186</td>\n",
       "      <td>8.709037</td>\n",
       "      <td>0.0</td>\n",
       "      <td>0.00</td>\n",
       "      <td>4.00</td>\n",
       "      <td>8.0</td>\n",
       "      <td>16.00</td>\n",
       "      <td>28.95</td>\n",
       "      <td>33.00000</td>\n",
       "      <td>40.0</td>\n",
       "    </tr>\n",
       "    <tr>\n",
       "      <th>Runs</th>\n",
       "      <td>322.0</td>\n",
       "      <td>50.909938</td>\n",
       "      <td>26.024095</td>\n",
       "      <td>0.0</td>\n",
       "      <td>17.00</td>\n",
       "      <td>30.25</td>\n",
       "      <td>48.0</td>\n",
       "      <td>69.00</td>\n",
       "      <td>94.00</td>\n",
       "      <td>107.79000</td>\n",
       "      <td>130.0</td>\n",
       "    </tr>\n",
       "    <tr>\n",
       "      <th>RBI</th>\n",
       "      <td>322.0</td>\n",
       "      <td>48.027950</td>\n",
       "      <td>26.166895</td>\n",
       "      <td>0.0</td>\n",
       "      <td>14.00</td>\n",
       "      <td>28.00</td>\n",
       "      <td>44.0</td>\n",
       "      <td>64.75</td>\n",
       "      <td>96.00</td>\n",
       "      <td>112.37000</td>\n",
       "      <td>121.0</td>\n",
       "    </tr>\n",
       "    <tr>\n",
       "      <th>Walks</th>\n",
       "      <td>322.0</td>\n",
       "      <td>38.742236</td>\n",
       "      <td>21.639327</td>\n",
       "      <td>0.0</td>\n",
       "      <td>11.05</td>\n",
       "      <td>22.00</td>\n",
       "      <td>35.0</td>\n",
       "      <td>53.00</td>\n",
       "      <td>78.00</td>\n",
       "      <td>93.58000</td>\n",
       "      <td>105.0</td>\n",
       "    </tr>\n",
       "    <tr>\n",
       "      <th>Years</th>\n",
       "      <td>322.0</td>\n",
       "      <td>7.444099</td>\n",
       "      <td>4.926087</td>\n",
       "      <td>1.0</td>\n",
       "      <td>1.00</td>\n",
       "      <td>4.00</td>\n",
       "      <td>6.0</td>\n",
       "      <td>11.00</td>\n",
       "      <td>17.00</td>\n",
       "      <td>19.79000</td>\n",
       "      <td>24.0</td>\n",
       "    </tr>\n",
       "    <tr>\n",
       "      <th>CAtBat</th>\n",
       "      <td>322.0</td>\n",
       "      <td>2648.683230</td>\n",
       "      <td>2324.205870</td>\n",
       "      <td>19.0</td>\n",
       "      <td>216.50</td>\n",
       "      <td>816.75</td>\n",
       "      <td>1928.0</td>\n",
       "      <td>3924.25</td>\n",
       "      <td>7125.60</td>\n",
       "      <td>8749.97000</td>\n",
       "      <td>14053.0</td>\n",
       "    </tr>\n",
       "    <tr>\n",
       "      <th>CHits</th>\n",
       "      <td>322.0</td>\n",
       "      <td>717.571429</td>\n",
       "      <td>654.472627</td>\n",
       "      <td>4.0</td>\n",
       "      <td>54.00</td>\n",
       "      <td>209.00</td>\n",
       "      <td>508.0</td>\n",
       "      <td>1059.25</td>\n",
       "      <td>2017.15</td>\n",
       "      <td>2500.34000</td>\n",
       "      <td>4256.0</td>\n",
       "    </tr>\n",
       "    <tr>\n",
       "      <th>CHmRun</th>\n",
       "      <td>322.0</td>\n",
       "      <td>69.490683</td>\n",
       "      <td>86.266061</td>\n",
       "      <td>0.0</td>\n",
       "      <td>2.00</td>\n",
       "      <td>14.00</td>\n",
       "      <td>37.5</td>\n",
       "      <td>90.00</td>\n",
       "      <td>265.65</td>\n",
       "      <td>373.12000</td>\n",
       "      <td>548.0</td>\n",
       "    </tr>\n",
       "    <tr>\n",
       "      <th>CRuns</th>\n",
       "      <td>322.0</td>\n",
       "      <td>358.795031</td>\n",
       "      <td>334.105886</td>\n",
       "      <td>1.0</td>\n",
       "      <td>27.00</td>\n",
       "      <td>100.25</td>\n",
       "      <td>247.0</td>\n",
       "      <td>526.25</td>\n",
       "      <td>1032.30</td>\n",
       "      <td>1174.37000</td>\n",
       "      <td>2165.0</td>\n",
       "    </tr>\n",
       "    <tr>\n",
       "      <th>CRBI</th>\n",
       "      <td>322.0</td>\n",
       "      <td>330.118012</td>\n",
       "      <td>333.219617</td>\n",
       "      <td>0.0</td>\n",
       "      <td>22.05</td>\n",
       "      <td>88.75</td>\n",
       "      <td>220.5</td>\n",
       "      <td>426.25</td>\n",
       "      <td>1071.75</td>\n",
       "      <td>1310.85000</td>\n",
       "      <td>1659.0</td>\n",
       "    </tr>\n",
       "    <tr>\n",
       "      <th>CWalks</th>\n",
       "      <td>322.0</td>\n",
       "      <td>260.239130</td>\n",
       "      <td>267.058085</td>\n",
       "      <td>0.0</td>\n",
       "      <td>15.05</td>\n",
       "      <td>67.25</td>\n",
       "      <td>170.5</td>\n",
       "      <td>339.25</td>\n",
       "      <td>817.60</td>\n",
       "      <td>1139.14000</td>\n",
       "      <td>1566.0</td>\n",
       "    </tr>\n",
       "    <tr>\n",
       "      <th>PutOuts</th>\n",
       "      <td>322.0</td>\n",
       "      <td>288.937888</td>\n",
       "      <td>280.704614</td>\n",
       "      <td>0.0</td>\n",
       "      <td>33.20</td>\n",
       "      <td>109.25</td>\n",
       "      <td>212.0</td>\n",
       "      <td>325.00</td>\n",
       "      <td>910.65</td>\n",
       "      <td>1301.19000</td>\n",
       "      <td>1378.0</td>\n",
       "    </tr>\n",
       "    <tr>\n",
       "      <th>Assists</th>\n",
       "      <td>322.0</td>\n",
       "      <td>106.913043</td>\n",
       "      <td>136.854876</td>\n",
       "      <td>0.0</td>\n",
       "      <td>0.00</td>\n",
       "      <td>7.00</td>\n",
       "      <td>39.5</td>\n",
       "      <td>166.00</td>\n",
       "      <td>431.45</td>\n",
       "      <td>478.16000</td>\n",
       "      <td>492.0</td>\n",
       "    </tr>\n",
       "    <tr>\n",
       "      <th>Errors</th>\n",
       "      <td>322.0</td>\n",
       "      <td>8.040373</td>\n",
       "      <td>6.368359</td>\n",
       "      <td>0.0</td>\n",
       "      <td>0.00</td>\n",
       "      <td>3.00</td>\n",
       "      <td>6.0</td>\n",
       "      <td>11.00</td>\n",
       "      <td>20.00</td>\n",
       "      <td>25.79000</td>\n",
       "      <td>32.0</td>\n",
       "    </tr>\n",
       "    <tr>\n",
       "      <th>Salary</th>\n",
       "      <td>263.0</td>\n",
       "      <td>535.925882</td>\n",
       "      <td>451.118681</td>\n",
       "      <td>67.5</td>\n",
       "      <td>86.60</td>\n",
       "      <td>190.00</td>\n",
       "      <td>425.0</td>\n",
       "      <td>750.00</td>\n",
       "      <td>1346.00</td>\n",
       "      <td>2032.88654</td>\n",
       "      <td>2460.0</td>\n",
       "    </tr>\n",
       "  </tbody>\n",
       "</table>\n",
       "</div>"
      ],
      "text/plain": [
       "         count         mean          std   min      5%     25%     50%      75%      95%         99%      max\n",
       "AtBat    322.0   380.928571   153.404981  16.0  161.00  255.25   379.5   512.00   609.90   658.59000    687.0\n",
       "Hits     322.0   101.024845    46.454741   1.0   39.00   64.00    96.0   137.00   174.00   210.79000    238.0\n",
       "HmRun    322.0    10.770186     8.709037   0.0    0.00    4.00     8.0    16.00    28.95    33.00000     40.0\n",
       "Runs     322.0    50.909938    26.024095   0.0   17.00   30.25    48.0    69.00    94.00   107.79000    130.0\n",
       "RBI      322.0    48.027950    26.166895   0.0   14.00   28.00    44.0    64.75    96.00   112.37000    121.0\n",
       "Walks    322.0    38.742236    21.639327   0.0   11.05   22.00    35.0    53.00    78.00    93.58000    105.0\n",
       "Years    322.0     7.444099     4.926087   1.0    1.00    4.00     6.0    11.00    17.00    19.79000     24.0\n",
       "CAtBat   322.0  2648.683230  2324.205870  19.0  216.50  816.75  1928.0  3924.25  7125.60  8749.97000  14053.0\n",
       "CHits    322.0   717.571429   654.472627   4.0   54.00  209.00   508.0  1059.25  2017.15  2500.34000   4256.0\n",
       "CHmRun   322.0    69.490683    86.266061   0.0    2.00   14.00    37.5    90.00   265.65   373.12000    548.0\n",
       "CRuns    322.0   358.795031   334.105886   1.0   27.00  100.25   247.0   526.25  1032.30  1174.37000   2165.0\n",
       "CRBI     322.0   330.118012   333.219617   0.0   22.05   88.75   220.5   426.25  1071.75  1310.85000   1659.0\n",
       "CWalks   322.0   260.239130   267.058085   0.0   15.05   67.25   170.5   339.25   817.60  1139.14000   1566.0\n",
       "PutOuts  322.0   288.937888   280.704614   0.0   33.20  109.25   212.0   325.00   910.65  1301.19000   1378.0\n",
       "Assists  322.0   106.913043   136.854876   0.0    0.00    7.00    39.5   166.00   431.45   478.16000    492.0\n",
       "Errors   322.0     8.040373     6.368359   0.0    0.00    3.00     6.0    11.00    20.00    25.79000     32.0\n",
       "Salary   263.0   535.925882   451.118681  67.5   86.60  190.00   425.0   750.00  1346.00  2032.88654   2460.0"
      ]
     },
     "execution_count": 4,
     "metadata": {},
     "output_type": "execute_result"
    }
   ],
   "source": [
    "\n",
    "\n",
    "df.info()\n",
    "df.shape  # There are 322 observation and 20 variables.\n",
    "df.isnull().sum()  # There are missing values in Salary columns.\n",
    "\n",
    "\n",
    "# Descriptive Analysis\n",
    "# When I examine the dataset, we see that there is\n",
    "# a difference between the mean and median values of the Assist variable.\n",
    "# This difference is also supported by the standard deviation.\n",
    "df.describe([0.05, 0.25, 0.50, 0.75, 0.95, 0.99]).T\n",
    "\n",
    "\n"
   ]
  },
  {
   "cell_type": "code",
   "execution_count": 5,
   "id": "a18d04aa",
   "metadata": {
    "execution": {
     "iopub.execute_input": "2021-11-03T08:21:17.640011Z",
     "iopub.status.busy": "2021-11-03T08:21:17.639277Z",
     "iopub.status.idle": "2021-11-03T08:21:17.659196Z",
     "shell.execute_reply": "2021-11-03T08:21:17.659690Z",
     "shell.execute_reply.started": "2021-11-03T06:19:16.048307Z"
    },
    "papermill": {
     "duration": 0.053982,
     "end_time": "2021-11-03T08:21:17.659885",
     "exception": false,
     "start_time": "2021-11-03T08:21:17.605903",
     "status": "completed"
    },
    "tags": []
   },
   "outputs": [
    {
     "name": "stdout",
     "output_type": "stream",
     "text": [
      "Observations: 322\n",
      "Variables: 20\n",
      "cat_cols: 3\n",
      "num_cols: 17\n",
      "cat_but_car: 0\n",
      "num_but_cat: 0\n"
     ]
    },
    {
     "data": {
      "text/plain": [
       "(['League', 'Division', 'NewLeague'],\n",
       " ['AtBat',\n",
       "  'Hits',\n",
       "  'HmRun',\n",
       "  'Runs',\n",
       "  'RBI',\n",
       "  'Walks',\n",
       "  'Years',\n",
       "  'CAtBat',\n",
       "  'CHits',\n",
       "  'CHmRun',\n",
       "  'CRuns',\n",
       "  'CRBI',\n",
       "  'CWalks',\n",
       "  'PutOuts',\n",
       "  'Assists',\n",
       "  'Errors',\n",
       "  'Salary'],\n",
       " [])"
      ]
     },
     "execution_count": 5,
     "metadata": {},
     "output_type": "execute_result"
    }
   ],
   "source": [
    "\n",
    "def grab_col_names(dataframe, cat_th=10, car_th=20):\n",
    "   \n",
    "\n",
    "    # cat_cols, cat_but_car\n",
    "    cat_cols = [col for col in dataframe.columns if dataframe[col].dtypes == \"O\"]\n",
    "\n",
    "    num_but_cat = [col for col in dataframe.columns if dataframe[col].nunique() < cat_th and\n",
    "                   dataframe[col].dtypes != \"O\"]\n",
    "\n",
    "    cat_but_car = [col for col in dataframe.columns if dataframe[col].nunique() > car_th and\n",
    "                   dataframe[col].dtypes == \"O\"]\n",
    "\n",
    "    cat_cols = cat_cols + num_but_cat\n",
    "\n",
    "    cat_cols = [col for col in cat_cols if col not in cat_but_car]\n",
    "\n",
    "    # num_cols\n",
    "    num_cols = [col for col in dataframe.columns if dataframe[col].dtypes != \"O\"]\n",
    "\n",
    "    num_cols = [col for col in num_cols if col not in num_but_cat]\n",
    "\n",
    "    print(f\"Observations: {dataframe.shape[0]}\")\n",
    "    print(f\"Variables: {dataframe.shape[1]}\")\n",
    "    print(f'cat_cols: {len(cat_cols)}')\n",
    "    print(f'num_cols: {len(num_cols)}')\n",
    "    print(f'cat_but_car: {len(cat_but_car)}')\n",
    "    print(f'num_but_cat: {len(num_but_cat)}')\n",
    "\n",
    "    return cat_cols, num_cols, cat_but_car\n",
    "\n",
    "\n",
    "# Specifying variable types\n",
    "cat_cols, num_cols, cat_but_car = grab_col_names(df, cat_th=5, car_th=20)\n",
    "cat_cols, num_cols, cat_but_car"
   ]
  },
  {
   "cell_type": "code",
   "execution_count": 6,
   "id": "11c7577b",
   "metadata": {
    "execution": {
     "iopub.execute_input": "2021-11-03T08:21:17.727574Z",
     "iopub.status.busy": "2021-11-03T08:21:17.726915Z",
     "iopub.status.idle": "2021-11-03T08:21:17.733639Z",
     "shell.execute_reply": "2021-11-03T08:21:17.732907Z",
     "shell.execute_reply.started": "2021-11-03T06:19:16.073359Z"
    },
    "papermill": {
     "duration": 0.041979,
     "end_time": "2021-11-03T08:21:17.733806",
     "exception": false,
     "start_time": "2021-11-03T08:21:17.691827",
     "status": "completed"
    },
    "tags": []
   },
   "outputs": [],
   "source": [
    "def cat_summary(dataframe, col_name, plot=False):\n",
    "    import pandas as pd\n",
    "    print(pd.DataFrame({col_name: dataframe[col_name].value_counts(),\n",
    "                        \"Ratio\": 100 * dataframe[col_name].value_counts() / len(dataframe)}))\n",
    "    print(\"##########################################\")\n",
    "\n",
    "    if plot:\n",
    "        sns.countplot(x=dataframe[col_name], data=dataframe)\n",
    "        plt.show()"
   ]
  },
  {
   "cell_type": "code",
   "execution_count": 7,
   "id": "456ff286",
   "metadata": {
    "execution": {
     "iopub.execute_input": "2021-11-03T08:21:17.805310Z",
     "iopub.status.busy": "2021-11-03T08:21:17.804571Z",
     "iopub.status.idle": "2021-11-03T08:21:18.363989Z",
     "shell.execute_reply": "2021-11-03T08:21:18.363331Z",
     "shell.execute_reply.started": "2021-11-03T06:19:16.083147Z"
    },
    "papermill": {
     "duration": 0.599169,
     "end_time": "2021-11-03T08:21:18.364152",
     "exception": false,
     "start_time": "2021-11-03T08:21:17.764983",
     "status": "completed"
    },
    "tags": []
   },
   "outputs": [
    {
     "name": "stdout",
     "output_type": "stream",
     "text": [
      "   League      Ratio\n",
      "A     175  54.347826\n",
      "N     147  45.652174\n",
      "##########################################\n"
     ]
    },
    {
     "data": {
      "image/png": "[encoded data removed]",
      "text/plain": [
       "<Figure size 432x288 with 1 Axes>"
      ]
     },
     "metadata": {
      "needs_background": "light"
     },
     "output_type": "display_data"
    },
    {
     "name": "stdout",
     "output_type": "stream",
     "text": [
      "   Division      Ratio\n",
      "W       165  51.242236\n",
      "E       157  48.757764\n",
      "##########################################\n"
     ]
    },
    {
     "data": {
      "image/png": "[encoded data removed]",
      "text/plain": [
       "<Figure size 432x288 with 1 Axes>"
      ]
     },
     "metadata": {
      "needs_background": "light"
     },
     "output_type": "display_data"
    },
    {
     "name": "stdout",
     "output_type": "stream",
     "text": [
      "   NewLeague      Ratio\n",
      "A        176  54.658385\n",
      "N        146  45.341615\n",
      "##########################################\n"
     ]
    },
    {
     "data": {
      "image/png": "[encoded data removed]",
      "text/plain": [
       "<Figure size 432x288 with 1 Axes>"
      ]
     },
     "metadata": {
      "needs_background": "light"
     },
     "output_type": "display_data"
    }
   ],
   "source": [
    "for col in cat_cols:\n",
    "    cat_summary(df, col, plot=True)"
   ]
  },
  {
   "cell_type": "code",
   "execution_count": 8,
   "id": "a19b959d",
   "metadata": {
    "execution": {
     "iopub.execute_input": "2021-11-03T08:21:18.442941Z",
     "iopub.status.busy": "2021-11-03T08:21:18.442244Z",
     "iopub.status.idle": "2021-11-03T08:21:19.945275Z",
     "shell.execute_reply": "2021-11-03T08:21:19.945855Z",
     "shell.execute_reply.started": "2021-11-03T06:19:16.533289Z"
    },
    "papermill": {
     "duration": 1.547201,
     "end_time": "2021-11-03T08:21:19.946030",
     "exception": false,
     "start_time": "2021-11-03T08:21:18.398829",
     "status": "completed"
    },
    "tags": []
   },
   "outputs": [
    {
     "data": {
      "image/png": "[encoded data removed]",
      "text/plain": [
       "<Figure size 720x576 with 2 Axes>"
      ]
     },
     "metadata": {
      "needs_background": "light"
     },
     "output_type": "display_data"
    }
   ],
   "source": [
    "\n",
    "def correlation_matrix(df, cols):\n",
    "    fig = plt.gcf()\n",
    "    fig.set_size_inches(10, 8)\n",
    "    plt.xticks(fontsize=10)\n",
    "    plt.yticks(fontsize=10)\n",
    "    fig = sns.heatmap(df[cols].corr(), annot=True, linewidths=0.5, annot_kws={'size': 12}, linecolor='w', cmap='RdBu')\n",
    "    plt.show(block=True)\n",
    "\n",
    "correlation_matrix(df, num_cols)"
   ]
  },
  {
   "cell_type": "code",
   "execution_count": 9,
   "id": "0453654f",
   "metadata": {
    "execution": {
     "iopub.execute_input": "2021-11-03T08:21:20.034184Z",
     "iopub.status.busy": "2021-11-03T08:21:20.033378Z",
     "iopub.status.idle": "2021-11-03T08:21:20.047054Z",
     "shell.execute_reply": "2021-11-03T08:21:20.047534Z",
     "shell.execute_reply.started": "2021-11-03T06:19:18.171476Z"
    },
    "papermill": {
     "duration": 0.06076,
     "end_time": "2021-11-03T08:21:20.047733",
     "exception": false,
     "start_time": "2021-11-03T08:21:19.986973",
     "status": "completed"
    },
    "tags": []
   },
   "outputs": [
    {
     "name": "stdout",
     "output_type": "stream",
     "text": [
      "        TARGET_MEAN\n",
      "League             \n",
      "A        541.999547\n",
      "N        529.117500\n",
      "\n",
      "\n",
      "          TARGET_MEAN\n",
      "Division             \n",
      "E          624.271364\n",
      "W          450.876873\n",
      "\n",
      "\n",
      "           TARGET_MEAN\n",
      "NewLeague             \n",
      "A           537.113028\n",
      "N           534.553852\n",
      "\n",
      "\n"
     ]
    }
   ],
   "source": [
    "\n",
    "def target_summary_with_cat(dataframe, target, categorical_col):\n",
    "    print(pd.DataFrame({\"TARGET_MEAN\": dataframe.groupby(categorical_col)[target].mean()}), end=\"\\n\\n\\n\")\n",
    "    \n",
    "for col in cat_cols:\n",
    "    target_summary_with_cat(df, \"Salary\", col)"
   ]
  },
  {
   "cell_type": "code",
   "execution_count": 10,
   "id": "7ad35865",
   "metadata": {
    "execution": {
     "iopub.execute_input": "2021-11-03T08:21:20.132273Z",
     "iopub.status.busy": "2021-11-03T08:21:20.131198Z",
     "iopub.status.idle": "2021-11-03T08:21:20.138016Z",
     "shell.execute_reply": "2021-11-03T08:21:20.138496Z",
     "shell.execute_reply.started": "2021-11-03T06:19:18.19344Z"
    },
    "papermill": {
     "duration": 0.050147,
     "end_time": "2021-11-03T08:21:20.138681",
     "exception": false,
     "start_time": "2021-11-03T08:21:20.088534",
     "status": "completed"
    },
    "tags": []
   },
   "outputs": [],
   "source": [
    "df.dropna(inplace=True)"
   ]
  },
  {
   "cell_type": "markdown",
   "id": "5495943b",
   "metadata": {
    "papermill": {
     "duration": 0.041342,
     "end_time": "2021-11-03T08:21:20.222256",
     "exception": false,
     "start_time": "2021-11-03T08:21:20.180914",
     "status": "completed"
    },
    "tags": []
   },
   "source": [
    "# 2. Data Preprocessing & Feature Engineering"
   ]
  },
  {
   "cell_type": "code",
   "execution_count": 11,
   "id": "fc0a09ba",
   "metadata": {
    "execution": {
     "iopub.execute_input": "2021-11-03T08:21:20.314663Z",
     "iopub.status.busy": "2021-11-03T08:21:20.313583Z",
     "iopub.status.idle": "2021-11-03T08:21:20.315709Z",
     "shell.execute_reply": "2021-11-03T08:21:20.316364Z",
     "shell.execute_reply.started": "2021-11-03T06:19:18.212262Z"
    },
    "papermill": {
     "duration": 0.052022,
     "end_time": "2021-11-03T08:21:20.316535",
     "exception": false,
     "start_time": "2021-11-03T08:21:20.264513",
     "status": "completed"
    },
    "tags": []
   },
   "outputs": [],
   "source": [
    "def outlier_thresholds(dataframe, col_name, q1=0.10, q3=0.90):\n",
    "    quartile1 = dataframe[col_name].quantile(q1)\n",
    "    quartile3 = dataframe[col_name].quantile(q3)\n",
    "    interquantile_range = quartile3 - quartile1\n",
    "    up_limit = quartile3 + 1.5 * interquantile_range\n",
    "    low_limit = quartile1 - 1.5 * interquantile_range\n",
    "    return low_limit, up_limit\n",
    "\n",
    "\n",
    "def replace_with_thresholds(dataframe, variable):\n",
    "    low_limit, up_limit = outlier_thresholds(dataframe, variable)\n",
    "    dataframe.loc[(dataframe[variable] < low_limit), variable] = low_limit\n",
    "    dataframe.loc[(dataframe[variable] > up_limit), variable] = up_limit\n",
    "\n",
    "\n",
    "def check_outlier(dataframe, col_name, q1=0.10, q3=0.90):\n",
    "    low_limit, up_limit = outlier_thresholds(dataframe, col_name, q1, q3)\n",
    "    if dataframe[(dataframe[col_name] > up_limit) | (dataframe[col_name] < low_limit)].any(axis=None):\n",
    "        return True\n",
    "    else:\n",
    "        return False\n"
   ]
  },
  {
   "cell_type": "code",
   "execution_count": 12,
   "id": "6850cfde",
   "metadata": {
    "execution": {
     "iopub.execute_input": "2021-11-03T08:21:20.403326Z",
     "iopub.status.busy": "2021-11-03T08:21:20.402307Z",
     "iopub.status.idle": "2021-11-03T08:21:20.719848Z",
     "shell.execute_reply": "2021-11-03T08:21:20.718842Z",
     "shell.execute_reply.started": "2021-11-03T06:19:18.22283Z"
    },
    "papermill": {
     "duration": 0.364108,
     "end_time": "2021-11-03T08:21:20.720106",
     "exception": false,
     "start_time": "2021-11-03T08:21:20.355998",
     "status": "completed"
    },
    "tags": []
   },
   "outputs": [
    {
     "name": "stdout",
     "output_type": "stream",
     "text": [
      "AtBat False\n",
      "Hits False\n",
      "HmRun False\n",
      "Runs False\n",
      "RBI False\n",
      "Walks False\n",
      "Years False\n",
      "CAtBat False\n",
      "CHits True\n",
      "CHmRun True\n",
      "CRuns True\n",
      "CRBI False\n",
      "CWalks True\n",
      "PutOuts False\n",
      "Assists False\n",
      "Errors False\n",
      "Salary False\n",
      "AtBat False\n",
      "Hits False\n",
      "HmRun False\n",
      "Runs False\n",
      "RBI False\n",
      "Walks False\n",
      "Years False\n",
      "CAtBat False\n",
      "CHits False\n",
      "CHmRun False\n",
      "CRuns False\n",
      "CRBI False\n",
      "CWalks False\n",
      "PutOuts False\n",
      "Assists False\n",
      "Errors False\n",
      "Salary False\n"
     ]
    }
   ],
   "source": [
    "for col in num_cols:\n",
    "    print(col, check_outlier(df, col))\n",
    "\n",
    "# We replace with thresholds\n",
    "for col in num_cols:\n",
    "    replace_with_thresholds(df, col)\n",
    "\n",
    "# control for outliers\n",
    "for col in num_cols:\n",
    "    print(col, check_outlier(df, col))"
   ]
  },
  {
   "cell_type": "code",
   "execution_count": 13,
   "id": "ba30adac",
   "metadata": {
    "execution": {
     "iopub.execute_input": "2021-11-03T08:21:20.828225Z",
     "iopub.status.busy": "2021-11-03T08:21:20.825794Z",
     "iopub.status.idle": "2021-11-03T08:21:20.972765Z",
     "shell.execute_reply": "2021-11-03T08:21:20.973273Z",
     "shell.execute_reply.started": "2021-11-03T06:19:18.413187Z"
    },
    "papermill": {
     "duration": 0.211663,
     "end_time": "2021-11-03T08:21:20.973438",
     "exception": false,
     "start_time": "2021-11-03T08:21:20.761775",
     "status": "completed"
    },
    "tags": []
   },
   "outputs": [
    {
     "data": {
      "image/png": "[encoded data removed]",
      "text/plain": [
       "<Figure size 432x288 with 1 Axes>"
      ]
     },
     "metadata": {
      "needs_background": "light"
     },
     "output_type": "display_data"
    }
   ],
   "source": [
    "\n",
    "sns.boxplot(x=df[\"Salary\"])\n",
    "plt.show()"
   ]
  },
  {
   "cell_type": "code",
   "execution_count": 14,
   "id": "4ac9534e",
   "metadata": {
    "execution": {
     "iopub.execute_input": "2021-11-03T08:21:21.063323Z",
     "iopub.status.busy": "2021-11-03T08:21:21.061249Z",
     "iopub.status.idle": "2021-11-03T08:21:21.067263Z",
     "shell.execute_reply": "2021-11-03T08:21:21.067875Z",
     "shell.execute_reply.started": "2021-11-03T06:19:18.543315Z"
    },
    "papermill": {
     "duration": 0.052151,
     "end_time": "2021-11-03T08:21:21.068052",
     "exception": false,
     "start_time": "2021-11-03T08:21:21.015901",
     "status": "completed"
    },
    "tags": []
   },
   "outputs": [],
   "source": [
    "\n",
    "# remove salary bigger than up limit\n",
    "q3 = 0.90\n",
    "salary_up = int(df[\"Salary\"].quantile(q3))\n",
    "df = df[(df[\"Salary\"] < salary_up)]\n"
   ]
  },
  {
   "cell_type": "code",
   "execution_count": 15,
   "id": "0df1af13",
   "metadata": {
    "execution": {
     "iopub.execute_input": "2021-11-03T08:21:21.154239Z",
     "iopub.status.busy": "2021-11-03T08:21:21.153497Z",
     "iopub.status.idle": "2021-11-03T08:21:21.312812Z",
     "shell.execute_reply": "2021-11-03T08:21:21.313389Z",
     "shell.execute_reply.started": "2021-11-03T06:19:18.559066Z"
    },
    "papermill": {
     "duration": 0.203707,
     "end_time": "2021-11-03T08:21:21.313569",
     "exception": false,
     "start_time": "2021-11-03T08:21:21.109862",
     "status": "completed"
    },
    "tags": []
   },
   "outputs": [
    {
     "data": {
      "image/png": "[encoded data removed]",
      "text/plain": [
       "<Figure size 432x288 with 1 Axes>"
      ]
     },
     "metadata": {
      "needs_background": "light"
     },
     "output_type": "display_data"
    }
   ],
   "source": [
    "\n",
    "sns.boxplot(x=df[\"Salary\"])\n",
    "plt.show()"
   ]
  },
  {
   "cell_type": "code",
   "execution_count": 16,
   "id": "f2a52c62",
   "metadata": {
    "execution": {
     "iopub.execute_input": "2021-11-03T08:21:21.418987Z",
     "iopub.status.busy": "2021-11-03T08:21:21.401829Z",
     "iopub.status.idle": "2021-11-03T08:21:21.422756Z",
     "shell.execute_reply": "2021-11-03T08:21:21.422173Z",
     "shell.execute_reply.started": "2021-11-03T06:19:18.730977Z"
    },
    "papermill": {
     "duration": 0.066406,
     "end_time": "2021-11-03T08:21:21.422916",
     "exception": false,
     "start_time": "2021-11-03T08:21:21.356510",
     "status": "completed"
    },
    "tags": []
   },
   "outputs": [],
   "source": [
    "\n",
    "# New variables were created with the most appropriate variables according to their proportions.\n",
    "\n",
    "df[\"new_Hits/CHits\"] = df[\"Hits\"] / df[\"CHits\"]\n",
    "df[\"new_OrtCHits\"] = df[\"CHits\"] / df[\"Years\"]\n",
    "df[\"new_OrtCHmRun\"] = df[\"CHmRun\"] / df[\"Years\"]\n",
    "df[\"new_OrtCruns\"] = df[\"CRuns\"] / df[\"Years\"]\n",
    "df[\"new_OrtCRBI\"] = df[\"CRBI\"] / df[\"Years\"]\n",
    "df[\"new_OrtCWalks\"] = df[\"CWalks\"] / df[\"Years\"]\n",
    "\n",
    "\n",
    "df[\"New_Average\"] = df[\"Hits\"] / df[\"AtBat\"]\n",
    "df['new_PutOutsYears'] = df['PutOuts'] * df['Years']\n",
    "df[\"new_RBIWalksRatio\"] = df[\"RBI\"] / df[\"Walks\"]\n",
    "df[\"New_CHmRunCAtBatRatio\"] = df[\"CHmRun\"] / df[\"CAtBat\"]\n",
    "df[\"New_BattingAverage\"] = df[\"CHits\"] / df[\"CAtBat\"]\n",
    "df.dropna(inplace=True)\n"
   ]
  },
  {
   "cell_type": "code",
   "execution_count": 17,
   "id": "a0188bed",
   "metadata": {
    "execution": {
     "iopub.execute_input": "2021-11-03T08:21:21.516194Z",
     "iopub.status.busy": "2021-11-03T08:21:21.515142Z",
     "iopub.status.idle": "2021-11-03T08:21:21.519778Z",
     "shell.execute_reply": "2021-11-03T08:21:21.520284Z",
     "shell.execute_reply.started": "2021-11-03T06:19:18.753747Z"
    },
    "papermill": {
     "duration": 0.054905,
     "end_time": "2021-11-03T08:21:21.520465",
     "exception": false,
     "start_time": "2021-11-03T08:21:21.465560",
     "status": "completed"
    },
    "tags": []
   },
   "outputs": [],
   "source": [
    "binary_cols = [col for col in df.columns if df[col].dtype not in [int, float] and df[col].nunique() == 2]\n",
    "for col in binary_cols:\n",
    "    labelencoder = LabelEncoder()\n",
    "    df[col] = labelencoder.fit_transform(df[col])\n"
   ]
  },
  {
   "cell_type": "code",
   "execution_count": 18,
   "id": "6ea95fcd",
   "metadata": {
    "execution": {
     "iopub.execute_input": "2021-11-03T08:21:21.609130Z",
     "iopub.status.busy": "2021-11-03T08:21:21.608105Z",
     "iopub.status.idle": "2021-11-03T08:21:21.641680Z",
     "shell.execute_reply": "2021-11-03T08:21:21.641027Z",
     "shell.execute_reply.started": "2021-11-03T06:19:18.765876Z"
    },
    "papermill": {
     "duration": 0.07904,
     "end_time": "2021-11-03T08:21:21.641854",
     "exception": false,
     "start_time": "2021-11-03T08:21:21.562814",
     "status": "completed"
    },
    "tags": []
   },
   "outputs": [
    {
     "data": {
      "text/html": [
       "<div>\n",
       "<style scoped>\n",
       "    .dataframe tbody tr th:only-of-type {\n",
       "        vertical-align: middle;\n",
       "    }\n",
       "\n",
       "    .dataframe tbody tr th {\n",
       "        vertical-align: top;\n",
       "    }\n",
       "\n",
       "    .dataframe thead th {\n",
       "        text-align: right;\n",
       "    }\n",
       "</style>\n",
       "<table border=\"1\" class=\"dataframe\">\n",
       "  <thead>\n",
       "    <tr style=\"text-align: right;\">\n",
       "      <th></th>\n",
       "      <th>AtBat</th>\n",
       "      <th>Hits</th>\n",
       "      <th>HmRun</th>\n",
       "      <th>Runs</th>\n",
       "      <th>RBI</th>\n",
       "      <th>Walks</th>\n",
       "      <th>Years</th>\n",
       "      <th>CAtBat</th>\n",
       "      <th>CHits</th>\n",
       "      <th>CHmRun</th>\n",
       "      <th>CRuns</th>\n",
       "      <th>CRBI</th>\n",
       "      <th>CWalks</th>\n",
       "      <th>League</th>\n",
       "      <th>Division</th>\n",
       "      <th>PutOuts</th>\n",
       "      <th>Assists</th>\n",
       "      <th>Errors</th>\n",
       "      <th>Salary</th>\n",
       "      <th>NewLeague</th>\n",
       "      <th>new_Hits/CHits</th>\n",
       "      <th>new_OrtCHits</th>\n",
       "      <th>new_OrtCHmRun</th>\n",
       "      <th>new_OrtCruns</th>\n",
       "      <th>new_OrtCRBI</th>\n",
       "      <th>new_OrtCWalks</th>\n",
       "      <th>New_Average</th>\n",
       "      <th>new_PutOutsYears</th>\n",
       "      <th>new_RBIWalksRatio</th>\n",
       "      <th>New_CHmRunCAtBatRatio</th>\n",
       "      <th>New_BattingAverage</th>\n",
       "    </tr>\n",
       "  </thead>\n",
       "  <tbody>\n",
       "    <tr>\n",
       "      <th>1</th>\n",
       "      <td>315.0</td>\n",
       "      <td>81</td>\n",
       "      <td>7.0</td>\n",
       "      <td>24</td>\n",
       "      <td>38.0</td>\n",
       "      <td>39.0</td>\n",
       "      <td>14</td>\n",
       "      <td>3449.0</td>\n",
       "      <td>835.0</td>\n",
       "      <td>69.0</td>\n",
       "      <td>321.0</td>\n",
       "      <td>414.0</td>\n",
       "      <td>375.0</td>\n",
       "      <td>1</td>\n",
       "      <td>1</td>\n",
       "      <td>632.0</td>\n",
       "      <td>43.0</td>\n",
       "      <td>10</td>\n",
       "      <td>475.0</td>\n",
       "      <td>1</td>\n",
       "      <td>0.097006</td>\n",
       "      <td>59.642857</td>\n",
       "      <td>4.928571</td>\n",
       "      <td>22.928571</td>\n",
       "      <td>29.571429</td>\n",
       "      <td>26.785714</td>\n",
       "      <td>0.257143</td>\n",
       "      <td>8848.0</td>\n",
       "      <td>0.974359</td>\n",
       "      <td>0.020006</td>\n",
       "      <td>0.242099</td>\n",
       "    </tr>\n",
       "    <tr>\n",
       "      <th>2</th>\n",
       "      <td>479.0</td>\n",
       "      <td>130</td>\n",
       "      <td>18.0</td>\n",
       "      <td>66</td>\n",
       "      <td>72.0</td>\n",
       "      <td>76.0</td>\n",
       "      <td>3</td>\n",
       "      <td>1624.0</td>\n",
       "      <td>457.0</td>\n",
       "      <td>63.0</td>\n",
       "      <td>224.0</td>\n",
       "      <td>266.0</td>\n",
       "      <td>263.0</td>\n",
       "      <td>0</td>\n",
       "      <td>1</td>\n",
       "      <td>880.0</td>\n",
       "      <td>82.0</td>\n",
       "      <td>14</td>\n",
       "      <td>480.0</td>\n",
       "      <td>0</td>\n",
       "      <td>0.284464</td>\n",
       "      <td>152.333333</td>\n",
       "      <td>21.000000</td>\n",
       "      <td>74.666667</td>\n",
       "      <td>88.666667</td>\n",
       "      <td>87.666667</td>\n",
       "      <td>0.271399</td>\n",
       "      <td>2640.0</td>\n",
       "      <td>0.947368</td>\n",
       "      <td>0.038793</td>\n",
       "      <td>0.281404</td>\n",
       "    </tr>\n",
       "    <tr>\n",
       "      <th>3</th>\n",
       "      <td>496.0</td>\n",
       "      <td>141</td>\n",
       "      <td>20.0</td>\n",
       "      <td>65</td>\n",
       "      <td>78.0</td>\n",
       "      <td>37.0</td>\n",
       "      <td>11</td>\n",
       "      <td>5628.0</td>\n",
       "      <td>1575.0</td>\n",
       "      <td>225.0</td>\n",
       "      <td>828.0</td>\n",
       "      <td>838.0</td>\n",
       "      <td>354.0</td>\n",
       "      <td>1</td>\n",
       "      <td>0</td>\n",
       "      <td>200.0</td>\n",
       "      <td>11.0</td>\n",
       "      <td>3</td>\n",
       "      <td>500.0</td>\n",
       "      <td>1</td>\n",
       "      <td>0.089524</td>\n",
       "      <td>143.181818</td>\n",
       "      <td>20.454545</td>\n",
       "      <td>75.272727</td>\n",
       "      <td>76.181818</td>\n",
       "      <td>32.181818</td>\n",
       "      <td>0.284274</td>\n",
       "      <td>2200.0</td>\n",
       "      <td>2.108108</td>\n",
       "      <td>0.039979</td>\n",
       "      <td>0.279851</td>\n",
       "    </tr>\n",
       "    <tr>\n",
       "      <th>4</th>\n",
       "      <td>321.0</td>\n",
       "      <td>87</td>\n",
       "      <td>10.0</td>\n",
       "      <td>39</td>\n",
       "      <td>42.0</td>\n",
       "      <td>30.0</td>\n",
       "      <td>2</td>\n",
       "      <td>396.0</td>\n",
       "      <td>101.0</td>\n",
       "      <td>12.0</td>\n",
       "      <td>48.0</td>\n",
       "      <td>46.0</td>\n",
       "      <td>33.0</td>\n",
       "      <td>1</td>\n",
       "      <td>0</td>\n",
       "      <td>805.0</td>\n",
       "      <td>40.0</td>\n",
       "      <td>4</td>\n",
       "      <td>91.5</td>\n",
       "      <td>1</td>\n",
       "      <td>0.861386</td>\n",
       "      <td>50.500000</td>\n",
       "      <td>6.000000</td>\n",
       "      <td>24.000000</td>\n",
       "      <td>23.000000</td>\n",
       "      <td>16.500000</td>\n",
       "      <td>0.271028</td>\n",
       "      <td>1610.0</td>\n",
       "      <td>1.400000</td>\n",
       "      <td>0.030303</td>\n",
       "      <td>0.255051</td>\n",
       "    </tr>\n",
       "    <tr>\n",
       "      <th>5</th>\n",
       "      <td>594.0</td>\n",
       "      <td>169</td>\n",
       "      <td>4.0</td>\n",
       "      <td>74</td>\n",
       "      <td>51.0</td>\n",
       "      <td>35.0</td>\n",
       "      <td>11</td>\n",
       "      <td>4408.0</td>\n",
       "      <td>1133.0</td>\n",
       "      <td>19.0</td>\n",
       "      <td>501.0</td>\n",
       "      <td>336.0</td>\n",
       "      <td>194.0</td>\n",
       "      <td>0</td>\n",
       "      <td>1</td>\n",
       "      <td>282.0</td>\n",
       "      <td>421.0</td>\n",
       "      <td>25</td>\n",
       "      <td>750.0</td>\n",
       "      <td>0</td>\n",
       "      <td>0.149162</td>\n",
       "      <td>103.000000</td>\n",
       "      <td>1.727273</td>\n",
       "      <td>45.545455</td>\n",
       "      <td>30.545455</td>\n",
       "      <td>17.636364</td>\n",
       "      <td>0.284512</td>\n",
       "      <td>3102.0</td>\n",
       "      <td>1.457143</td>\n",
       "      <td>0.004310</td>\n",
       "      <td>0.257033</td>\n",
       "    </tr>\n",
       "  </tbody>\n",
       "</table>\n",
       "</div>"
      ],
      "text/plain": [
       "   AtBat  Hits  HmRun  Runs   RBI  Walks  Years  CAtBat   CHits  CHmRun  CRuns   CRBI  CWalks  League  Division  PutOuts  Assists  Errors  Salary  NewLeague  new_Hits/CHits  new_OrtCHits  new_OrtCHmRun  new_OrtCruns  new_OrtCRBI  new_OrtCWalks  New_Average  new_PutOutsYears  new_RBIWalksRatio  New_CHmRunCAtBatRatio  New_BattingAverage\n",
       "1  315.0    81    7.0    24  38.0   39.0     14  3449.0   835.0    69.0  321.0  414.0   375.0       1         1    632.0     43.0      10   475.0          1        0.097006     59.642857       4.928571     22.928571    29.571429      26.785714     0.257143            8848.0           0.974359               0.020006            0.242099\n",
       "2  479.0   130   18.0    66  72.0   76.0      3  1624.0   457.0    63.0  224.0  266.0   263.0       0         1    880.0     82.0      14   480.0          0        0.284464    152.333333      21.000000     74.666667    88.666667      87.666667     0.271399            2640.0           0.947368               0.038793            0.281404\n",
       "3  496.0   141   20.0    65  78.0   37.0     11  5628.0  1575.0   225.0  828.0  838.0   354.0       1         0    200.0     11.0       3   500.0          1        0.089524    143.181818      20.454545     75.272727    76.181818      32.181818     0.284274            2200.0           2.108108               0.039979            0.279851\n",
       "4  321.0    87   10.0    39  42.0   30.0      2   396.0   101.0    12.0   48.0   46.0    33.0       1         0    805.0     40.0       4    91.5          1        0.861386     50.500000       6.000000     24.000000    23.000000      16.500000     0.271028            1610.0           1.400000               0.030303            0.255051\n",
       "5  594.0   169    4.0    74  51.0   35.0     11  4408.0  1133.0    19.0  501.0  336.0   194.0       0         1    282.0    421.0      25   750.0          0        0.149162    103.000000       1.727273     45.545455    30.545455      17.636364     0.284512            3102.0           1.457143               0.004310            0.257033"
      ]
     },
     "execution_count": 18,
     "metadata": {},
     "output_type": "execute_result"
    }
   ],
   "source": [
    "df.head()"
   ]
  },
  {
   "cell_type": "code",
   "execution_count": 19,
   "id": "57486338",
   "metadata": {
    "execution": {
     "iopub.execute_input": "2021-11-03T08:21:21.735372Z",
     "iopub.status.busy": "2021-11-03T08:21:21.734254Z",
     "iopub.status.idle": "2021-11-03T08:21:21.749699Z",
     "shell.execute_reply": "2021-11-03T08:21:21.750192Z",
     "shell.execute_reply.started": "2021-11-03T06:19:18.807936Z"
    },
    "papermill": {
     "duration": 0.066084,
     "end_time": "2021-11-03T08:21:21.750367",
     "exception": false,
     "start_time": "2021-11-03T08:21:21.684283",
     "status": "completed"
    },
    "tags": []
   },
   "outputs": [
    {
     "name": "stdout",
     "output_type": "stream",
     "text": [
      "Observations: 236\n",
      "Variables: 31\n",
      "cat_cols: 3\n",
      "num_cols: 28\n",
      "cat_but_car: 0\n",
      "num_but_cat: 3\n"
     ]
    }
   ],
   "source": [
    "\n",
    "# One-Hot Encoding\n",
    "cat_cols, num_cols, cat_but_car = grab_col_names(df)\n",
    "\n",
    "\n",
    "def one_hot_encoder(dataframe, categorical_cols, drop_first=False):\n",
    "    dataframe = pd.get_dummies(dataframe, columns=categorical_cols, drop_first=False)\n",
    "    return dataframe\n",
    "\n",
    "\n",
    "df = one_hot_encoder(df, cat_cols)"
   ]
  },
  {
   "cell_type": "code",
   "execution_count": 20,
   "id": "f46518e0",
   "metadata": {
    "execution": {
     "iopub.execute_input": "2021-11-03T08:21:21.843272Z",
     "iopub.status.busy": "2021-11-03T08:21:21.841581Z",
     "iopub.status.idle": "2021-11-03T08:21:21.846125Z",
     "shell.execute_reply": "2021-11-03T08:21:21.845556Z",
     "shell.execute_reply.started": "2021-11-03T06:19:18.831576Z"
    },
    "papermill": {
     "duration": 0.053235,
     "end_time": "2021-11-03T08:21:21.846273",
     "exception": false,
     "start_time": "2021-11-03T08:21:21.793038",
     "status": "completed"
    },
    "tags": []
   },
   "outputs": [],
   "source": [
    "y = df[\"Salary\"]\n",
    "X = df.drop([\"Salary\"], axis=1)"
   ]
  },
  {
   "cell_type": "code",
   "execution_count": 21,
   "id": "0836d0ec",
   "metadata": {
    "execution": {
     "iopub.execute_input": "2021-11-03T08:21:22.000078Z",
     "iopub.status.busy": "2021-11-03T08:21:21.996970Z",
     "iopub.status.idle": "2021-11-03T08:21:22.099895Z",
     "shell.execute_reply": "2021-11-03T08:21:22.100833Z",
     "shell.execute_reply.started": "2021-11-03T06:19:18.841169Z"
    },
    "papermill": {
     "duration": 0.152519,
     "end_time": "2021-11-03T08:21:22.101025",
     "exception": false,
     "start_time": "2021-11-03T08:21:21.948506",
     "status": "completed"
    },
    "tags": []
   },
   "outputs": [
    {
     "data": {
      "text/html": [
       "<div>\n",
       "<style scoped>\n",
       "    .dataframe tbody tr th:only-of-type {\n",
       "        vertical-align: middle;\n",
       "    }\n",
       "\n",
       "    .dataframe tbody tr th {\n",
       "        vertical-align: top;\n",
       "    }\n",
       "\n",
       "    .dataframe thead th {\n",
       "        text-align: right;\n",
       "    }\n",
       "</style>\n",
       "<table border=\"1\" class=\"dataframe\">\n",
       "  <thead>\n",
       "    <tr style=\"text-align: right;\">\n",
       "      <th></th>\n",
       "      <th>Feature</th>\n",
       "      <th>Value</th>\n",
       "    </tr>\n",
       "  </thead>\n",
       "  <tbody>\n",
       "    <tr>\n",
       "      <th>23</th>\n",
       "      <td>new_PutOutsYears</td>\n",
       "      <td>54</td>\n",
       "    </tr>\n",
       "    <tr>\n",
       "      <th>24</th>\n",
       "      <td>new_RBIWalksRatio</td>\n",
       "      <td>51</td>\n",
       "    </tr>\n",
       "    <tr>\n",
       "      <th>13</th>\n",
       "      <td>PutOuts</td>\n",
       "      <td>51</td>\n",
       "    </tr>\n",
       "    <tr>\n",
       "      <th>9</th>\n",
       "      <td>CHmRun</td>\n",
       "      <td>44</td>\n",
       "    </tr>\n",
       "    <tr>\n",
       "      <th>6</th>\n",
       "      <td>Years</td>\n",
       "      <td>41</td>\n",
       "    </tr>\n",
       "    <tr>\n",
       "      <th>16</th>\n",
       "      <td>new_Hits/CHits</td>\n",
       "      <td>40</td>\n",
       "    </tr>\n",
       "    <tr>\n",
       "      <th>21</th>\n",
       "      <td>new_OrtCWalks</td>\n",
       "      <td>36</td>\n",
       "    </tr>\n",
       "    <tr>\n",
       "      <th>25</th>\n",
       "      <td>New_CHmRunCAtBatRatio</td>\n",
       "      <td>35</td>\n",
       "    </tr>\n",
       "    <tr>\n",
       "      <th>5</th>\n",
       "      <td>Walks</td>\n",
       "      <td>31</td>\n",
       "    </tr>\n",
       "    <tr>\n",
       "      <th>7</th>\n",
       "      <td>CAtBat</td>\n",
       "      <td>31</td>\n",
       "    </tr>\n",
       "    <tr>\n",
       "      <th>26</th>\n",
       "      <td>New_BattingAverage</td>\n",
       "      <td>31</td>\n",
       "    </tr>\n",
       "    <tr>\n",
       "      <th>8</th>\n",
       "      <td>CHits</td>\n",
       "      <td>30</td>\n",
       "    </tr>\n",
       "    <tr>\n",
       "      <th>14</th>\n",
       "      <td>Assists</td>\n",
       "      <td>29</td>\n",
       "    </tr>\n",
       "    <tr>\n",
       "      <th>15</th>\n",
       "      <td>Errors</td>\n",
       "      <td>29</td>\n",
       "    </tr>\n",
       "    <tr>\n",
       "      <th>11</th>\n",
       "      <td>CRBI</td>\n",
       "      <td>28</td>\n",
       "    </tr>\n",
       "    <tr>\n",
       "      <th>2</th>\n",
       "      <td>HmRun</td>\n",
       "      <td>28</td>\n",
       "    </tr>\n",
       "    <tr>\n",
       "      <th>1</th>\n",
       "      <td>Hits</td>\n",
       "      <td>28</td>\n",
       "    </tr>\n",
       "    <tr>\n",
       "      <th>22</th>\n",
       "      <td>New_Average</td>\n",
       "      <td>27</td>\n",
       "    </tr>\n",
       "    <tr>\n",
       "      <th>17</th>\n",
       "      <td>new_OrtCHits</td>\n",
       "      <td>26</td>\n",
       "    </tr>\n",
       "    <tr>\n",
       "      <th>19</th>\n",
       "      <td>new_OrtCruns</td>\n",
       "      <td>24</td>\n",
       "    </tr>\n",
       "    <tr>\n",
       "      <th>0</th>\n",
       "      <td>AtBat</td>\n",
       "      <td>22</td>\n",
       "    </tr>\n",
       "    <tr>\n",
       "      <th>3</th>\n",
       "      <td>Runs</td>\n",
       "      <td>22</td>\n",
       "    </tr>\n",
       "    <tr>\n",
       "      <th>12</th>\n",
       "      <td>CWalks</td>\n",
       "      <td>19</td>\n",
       "    </tr>\n",
       "    <tr>\n",
       "      <th>4</th>\n",
       "      <td>RBI</td>\n",
       "      <td>19</td>\n",
       "    </tr>\n",
       "    <tr>\n",
       "      <th>20</th>\n",
       "      <td>new_OrtCRBI</td>\n",
       "      <td>16</td>\n",
       "    </tr>\n",
       "    <tr>\n",
       "      <th>10</th>\n",
       "      <td>CRuns</td>\n",
       "      <td>14</td>\n",
       "    </tr>\n",
       "    <tr>\n",
       "      <th>18</th>\n",
       "      <td>new_OrtCHmRun</td>\n",
       "      <td>11</td>\n",
       "    </tr>\n",
       "    <tr>\n",
       "      <th>31</th>\n",
       "      <td>NewLeague_0</td>\n",
       "      <td>5</td>\n",
       "    </tr>\n",
       "    <tr>\n",
       "      <th>27</th>\n",
       "      <td>League_0</td>\n",
       "      <td>4</td>\n",
       "    </tr>\n",
       "    <tr>\n",
       "      <th>29</th>\n",
       "      <td>Division_0</td>\n",
       "      <td>4</td>\n",
       "    </tr>\n",
       "    <tr>\n",
       "      <th>28</th>\n",
       "      <td>League_1</td>\n",
       "      <td>0</td>\n",
       "    </tr>\n",
       "    <tr>\n",
       "      <th>30</th>\n",
       "      <td>Division_1</td>\n",
       "      <td>0</td>\n",
       "    </tr>\n",
       "    <tr>\n",
       "      <th>32</th>\n",
       "      <td>NewLeague_1</td>\n",
       "      <td>0</td>\n",
       "    </tr>\n",
       "  </tbody>\n",
       "</table>\n",
       "</div>"
      ],
      "text/plain": [
       "                  Feature  Value\n",
       "23       new_PutOutsYears     54\n",
       "24      new_RBIWalksRatio     51\n",
       "13                PutOuts     51\n",
       "9                  CHmRun     44\n",
       "6                   Years     41\n",
       "16         new_Hits/CHits     40\n",
       "21          new_OrtCWalks     36\n",
       "25  New_CHmRunCAtBatRatio     35\n",
       "5                   Walks     31\n",
       "7                  CAtBat     31\n",
       "26     New_BattingAverage     31\n",
       "8                   CHits     30\n",
       "14                Assists     29\n",
       "15                 Errors     29\n",
       "11                   CRBI     28\n",
       "2                   HmRun     28\n",
       "1                    Hits     28\n",
       "22            New_Average     27\n",
       "17           new_OrtCHits     26\n",
       "19           new_OrtCruns     24\n",
       "0                   AtBat     22\n",
       "3                    Runs     22\n",
       "12                 CWalks     19\n",
       "4                     RBI     19\n",
       "20            new_OrtCRBI     16\n",
       "10                  CRuns     14\n",
       "18          new_OrtCHmRun     11\n",
       "31            NewLeague_0      5\n",
       "27               League_0      4\n",
       "29             Division_0      4\n",
       "28               League_1      0\n",
       "30             Division_1      0\n",
       "32            NewLeague_1      0"
      ]
     },
     "execution_count": 21,
     "metadata": {},
     "output_type": "execute_result"
    }
   ],
   "source": [
    "# list feature importances for a regressor model like LGBM\n",
    "pre_model = LGBMRegressor().fit(X, y)\n",
    "feature_imp = pd.DataFrame({'Feature': X.columns, 'Value': pre_model.feature_importances_})\n",
    "feature_imp.sort_values(\"Value\", ascending=False)"
   ]
  },
  {
   "cell_type": "code",
   "execution_count": 22,
   "id": "68aeea6f",
   "metadata": {
    "execution": {
     "iopub.execute_input": "2021-11-03T08:21:22.196740Z",
     "iopub.status.busy": "2021-11-03T08:21:22.196049Z",
     "iopub.status.idle": "2021-11-03T08:21:22.625940Z",
     "shell.execute_reply": "2021-11-03T08:21:22.625253Z",
     "shell.execute_reply.started": "2021-11-03T06:19:18.95285Z"
    },
    "papermill": {
     "duration": 0.481472,
     "end_time": "2021-11-03T08:21:22.626088",
     "exception": false,
     "start_time": "2021-11-03T08:21:22.144616",
     "status": "completed"
    },
    "tags": []
   },
   "outputs": [
    {
     "data": {
      "text/html": [
       "<div>\n",
       "<style scoped>\n",
       "    .dataframe tbody tr th:only-of-type {\n",
       "        vertical-align: middle;\n",
       "    }\n",
       "\n",
       "    .dataframe tbody tr th {\n",
       "        vertical-align: top;\n",
       "    }\n",
       "\n",
       "    .dataframe thead th {\n",
       "        text-align: right;\n",
       "    }\n",
       "</style>\n",
       "<table border=\"1\" class=\"dataframe\">\n",
       "  <thead>\n",
       "    <tr style=\"text-align: right;\">\n",
       "      <th></th>\n",
       "      <th>Feature</th>\n",
       "      <th>Value</th>\n",
       "    </tr>\n",
       "  </thead>\n",
       "  <tbody>\n",
       "    <tr>\n",
       "      <th>8</th>\n",
       "      <td>CHits</td>\n",
       "      <td>0.278636</td>\n",
       "    </tr>\n",
       "    <tr>\n",
       "      <th>7</th>\n",
       "      <td>CAtBat</td>\n",
       "      <td>0.190378</td>\n",
       "    </tr>\n",
       "    <tr>\n",
       "      <th>10</th>\n",
       "      <td>CRuns</td>\n",
       "      <td>0.141545</td>\n",
       "    </tr>\n",
       "    <tr>\n",
       "      <th>0</th>\n",
       "      <td>AtBat</td>\n",
       "      <td>0.065390</td>\n",
       "    </tr>\n",
       "    <tr>\n",
       "      <th>17</th>\n",
       "      <td>new_OrtCHits</td>\n",
       "      <td>0.044071</td>\n",
       "    </tr>\n",
       "    <tr>\n",
       "      <th>1</th>\n",
       "      <td>Hits</td>\n",
       "      <td>0.027895</td>\n",
       "    </tr>\n",
       "    <tr>\n",
       "      <th>11</th>\n",
       "      <td>CRBI</td>\n",
       "      <td>0.026805</td>\n",
       "    </tr>\n",
       "    <tr>\n",
       "      <th>16</th>\n",
       "      <td>new_Hits/CHits</td>\n",
       "      <td>0.024114</td>\n",
       "    </tr>\n",
       "    <tr>\n",
       "      <th>13</th>\n",
       "      <td>PutOuts</td>\n",
       "      <td>0.015601</td>\n",
       "    </tr>\n",
       "    <tr>\n",
       "      <th>19</th>\n",
       "      <td>new_OrtCruns</td>\n",
       "      <td>0.014994</td>\n",
       "    </tr>\n",
       "    <tr>\n",
       "      <th>23</th>\n",
       "      <td>new_PutOutsYears</td>\n",
       "      <td>0.014410</td>\n",
       "    </tr>\n",
       "    <tr>\n",
       "      <th>4</th>\n",
       "      <td>RBI</td>\n",
       "      <td>0.014346</td>\n",
       "    </tr>\n",
       "    <tr>\n",
       "      <th>22</th>\n",
       "      <td>New_Average</td>\n",
       "      <td>0.014268</td>\n",
       "    </tr>\n",
       "    <tr>\n",
       "      <th>3</th>\n",
       "      <td>Runs</td>\n",
       "      <td>0.013831</td>\n",
       "    </tr>\n",
       "    <tr>\n",
       "      <th>26</th>\n",
       "      <td>New_BattingAverage</td>\n",
       "      <td>0.010718</td>\n",
       "    </tr>\n",
       "    <tr>\n",
       "      <th>20</th>\n",
       "      <td>new_OrtCRBI</td>\n",
       "      <td>0.010562</td>\n",
       "    </tr>\n",
       "    <tr>\n",
       "      <th>21</th>\n",
       "      <td>new_OrtCWalks</td>\n",
       "      <td>0.010520</td>\n",
       "    </tr>\n",
       "    <tr>\n",
       "      <th>14</th>\n",
       "      <td>Assists</td>\n",
       "      <td>0.009266</td>\n",
       "    </tr>\n",
       "    <tr>\n",
       "      <th>12</th>\n",
       "      <td>CWalks</td>\n",
       "      <td>0.009170</td>\n",
       "    </tr>\n",
       "    <tr>\n",
       "      <th>5</th>\n",
       "      <td>Walks</td>\n",
       "      <td>0.008665</td>\n",
       "    </tr>\n",
       "    <tr>\n",
       "      <th>6</th>\n",
       "      <td>Years</td>\n",
       "      <td>0.008572</td>\n",
       "    </tr>\n",
       "    <tr>\n",
       "      <th>25</th>\n",
       "      <td>New_CHmRunCAtBatRatio</td>\n",
       "      <td>0.008160</td>\n",
       "    </tr>\n",
       "    <tr>\n",
       "      <th>9</th>\n",
       "      <td>CHmRun</td>\n",
       "      <td>0.007617</td>\n",
       "    </tr>\n",
       "    <tr>\n",
       "      <th>15</th>\n",
       "      <td>Errors</td>\n",
       "      <td>0.007488</td>\n",
       "    </tr>\n",
       "    <tr>\n",
       "      <th>18</th>\n",
       "      <td>new_OrtCHmRun</td>\n",
       "      <td>0.006555</td>\n",
       "    </tr>\n",
       "    <tr>\n",
       "      <th>24</th>\n",
       "      <td>new_RBIWalksRatio</td>\n",
       "      <td>0.006425</td>\n",
       "    </tr>\n",
       "    <tr>\n",
       "      <th>2</th>\n",
       "      <td>HmRun</td>\n",
       "      <td>0.006045</td>\n",
       "    </tr>\n",
       "    <tr>\n",
       "      <th>32</th>\n",
       "      <td>NewLeague_1</td>\n",
       "      <td>0.001311</td>\n",
       "    </tr>\n",
       "    <tr>\n",
       "      <th>31</th>\n",
       "      <td>NewLeague_0</td>\n",
       "      <td>0.000931</td>\n",
       "    </tr>\n",
       "    <tr>\n",
       "      <th>28</th>\n",
       "      <td>League_1</td>\n",
       "      <td>0.000563</td>\n",
       "    </tr>\n",
       "    <tr>\n",
       "      <th>29</th>\n",
       "      <td>Division_0</td>\n",
       "      <td>0.000518</td>\n",
       "    </tr>\n",
       "    <tr>\n",
       "      <th>27</th>\n",
       "      <td>League_0</td>\n",
       "      <td>0.000406</td>\n",
       "    </tr>\n",
       "    <tr>\n",
       "      <th>30</th>\n",
       "      <td>Division_1</td>\n",
       "      <td>0.000224</td>\n",
       "    </tr>\n",
       "  </tbody>\n",
       "</table>\n",
       "</div>"
      ],
      "text/plain": [
       "                  Feature     Value\n",
       "8                   CHits  0.278636\n",
       "7                  CAtBat  0.190378\n",
       "10                  CRuns  0.141545\n",
       "0                   AtBat  0.065390\n",
       "17           new_OrtCHits  0.044071\n",
       "1                    Hits  0.027895\n",
       "11                   CRBI  0.026805\n",
       "16         new_Hits/CHits  0.024114\n",
       "13                PutOuts  0.015601\n",
       "19           new_OrtCruns  0.014994\n",
       "23       new_PutOutsYears  0.014410\n",
       "4                     RBI  0.014346\n",
       "22            New_Average  0.014268\n",
       "3                    Runs  0.013831\n",
       "26     New_BattingAverage  0.010718\n",
       "20            new_OrtCRBI  0.010562\n",
       "21          new_OrtCWalks  0.010520\n",
       "14                Assists  0.009266\n",
       "12                 CWalks  0.009170\n",
       "5                   Walks  0.008665\n",
       "6                   Years  0.008572\n",
       "25  New_CHmRunCAtBatRatio  0.008160\n",
       "9                  CHmRun  0.007617\n",
       "15                 Errors  0.007488\n",
       "18          new_OrtCHmRun  0.006555\n",
       "24      new_RBIWalksRatio  0.006425\n",
       "2                   HmRun  0.006045\n",
       "32            NewLeague_1  0.001311\n",
       "31            NewLeague_0  0.000931\n",
       "28               League_1  0.000563\n",
       "29             Division_0  0.000518\n",
       "27               League_0  0.000406\n",
       "30             Division_1  0.000224"
      ]
     },
     "execution_count": 22,
     "metadata": {},
     "output_type": "execute_result"
    }
   ],
   "source": [
    "pre_model = RandomForestRegressor().fit(X, y)\n",
    "feature_imp = pd.DataFrame({'Feature': X.columns, 'Value': pre_model.feature_importances_})\n",
    "feature_imp.sort_values(\"Value\", ascending=False)"
   ]
  },
  {
   "cell_type": "markdown",
   "id": "a4b2e49a",
   "metadata": {
    "papermill": {
     "duration": 0.04431,
     "end_time": "2021-11-03T08:21:22.716922",
     "exception": false,
     "start_time": "2021-11-03T08:21:22.672612",
     "status": "completed"
    },
    "tags": []
   },
   "source": [
    "# 3. Base Models"
   ]
  },
  {
   "cell_type": "code",
   "execution_count": 23,
   "id": "4c5c9525",
   "metadata": {
    "execution": {
     "iopub.execute_input": "2021-11-03T08:21:22.819920Z",
     "iopub.status.busy": "2021-11-03T08:21:22.819179Z",
     "iopub.status.idle": "2021-11-03T08:21:30.736131Z",
     "shell.execute_reply": "2021-11-03T08:21:30.736830Z",
     "shell.execute_reply.started": "2021-11-03T06:19:19.383607Z"
    },
    "papermill": {
     "duration": 7.975527,
     "end_time": "2021-11-03T08:21:30.737024",
     "exception": false,
     "start_time": "2021-11-03T08:21:22.761497",
     "status": "completed"
    },
    "tags": []
   },
   "outputs": [
    {
     "name": "stdout",
     "output_type": "stream",
     "text": [
      "RMSE: 208.2738 (LR) \n",
      "RMSE: 202.011 (Ridge) \n",
      "RMSE: 199.6219 (Lasso) \n",
      "RMSE: 220.5961 (ElasticNet) \n",
      "RMSE: 188.5584 (KNN) \n",
      "RMSE: 213.6572 (CART) \n",
      "RMSE: 153.9995 (RF) \n",
      "RMSE: 268.7786 (SVR) \n",
      "RMSE: 157.8555 (GBM) \n",
      "RMSE: 163.5608 (XGBoost) \n",
      "RMSE: 162.2267 (LightGBM) \n"
     ]
    }
   ],
   "source": [
    "models = [('LR', LinearRegression()),\n",
    "          (\"Ridge\", Ridge()),\n",
    "          (\"Lasso\", Lasso()),\n",
    "          (\"ElasticNet\", ElasticNet()),\n",
    "          ('KNN', KNeighborsRegressor()),\n",
    "          ('CART', DecisionTreeRegressor()),\n",
    "          ('RF', RandomForestRegressor()),\n",
    "          ('SVR', SVR()),\n",
    "          ('GBM', GradientBoostingRegressor()),\n",
    "          (\"XGBoost\", XGBRegressor(objective='reg:squarederror')),\n",
    "          (\"LightGBM\", LGBMRegressor()),\n",
    "          # (\"CatBoost\", CatBoostRegressor(verbose=False))\n",
    "          ]\n",
    "\n",
    "for name, regressor in models:\n",
    "    rmse = np.mean(np.sqrt(-cross_val_score(regressor, X, y, cv=10, scoring=\"neg_mean_squared_error\")))\n",
    "    print(f\"RMSE: {round(rmse, 4)} ({name}) \")\n"
   ]
  },
  {
   "cell_type": "markdown",
   "id": "4da4e07a",
   "metadata": {
    "papermill": {
     "duration": 0.047298,
     "end_time": "2021-11-03T08:21:30.834351",
     "exception": false,
     "start_time": "2021-11-03T08:21:30.787053",
     "status": "completed"
    },
    "tags": []
   },
   "source": [
    "# 4 Automated Hyperparameter Optimization"
   ]
  },
  {
   "cell_type": "code",
   "execution_count": 24,
   "id": "f223fa14",
   "metadata": {
    "execution": {
     "iopub.execute_input": "2021-11-03T08:21:30.935453Z",
     "iopub.status.busy": "2021-11-03T08:21:30.934751Z",
     "iopub.status.idle": "2021-11-03T08:21:30.937608Z",
     "shell.execute_reply": "2021-11-03T08:21:30.937039Z",
     "shell.execute_reply.started": "2021-11-03T06:19:27.351296Z"
    },
    "papermill": {
     "duration": 0.05663,
     "end_time": "2021-11-03T08:21:30.937793",
     "exception": false,
     "start_time": "2021-11-03T08:21:30.881163",
     "status": "completed"
    },
    "tags": []
   },
   "outputs": [],
   "source": [
    "\n",
    "\n",
    "rf_params = {\"max_depth\": [5, 8, 15, None],\n",
    "             \"max_features\": [5, 7, \"auto\"],\n",
    "             \"min_samples_split\": [3, 5, 8, 15, 20],\n",
    "             \"n_estimators\": [600, 650, 1000]}\n",
    "\n",
    "\n",
    "lightgbm_params = {\"learning_rate\": [0.001, 0.01, 0.1, 0.001],\n",
    "                   \"n_estimators\": [250, 300, 500, 1500, 2500,3000],\n",
    "                   \"colsample_bytree\": [0.1, 0.3, 0.5, 0.7, 1]}\n",
    "\n",
    "regressors = [(\"RF\", RandomForestRegressor(), rf_params),\n",
    "              ('LightGBM', LGBMRegressor(), lightgbm_params)]\n",
    "\n",
    "best_models = {}"
   ]
  },
  {
   "cell_type": "code",
   "execution_count": 25,
   "id": "9e9776ff",
   "metadata": {
    "execution": {
     "iopub.execute_input": "2021-11-03T08:21:31.054948Z",
     "iopub.status.busy": "2021-11-03T08:21:31.049884Z",
     "iopub.status.idle": "2021-11-03T08:28:11.520110Z",
     "shell.execute_reply": "2021-11-03T08:28:11.520620Z",
     "shell.execute_reply.started": "2021-11-03T06:19:27.366218Z"
    },
    "papermill": {
     "duration": 400.536082,
     "end_time": "2021-11-03T08:28:11.520820",
     "exception": false,
     "start_time": "2021-11-03T08:21:30.984738",
     "status": "completed"
    },
    "tags": []
   },
   "outputs": [
    {
     "name": "stdout",
     "output_type": "stream",
     "text": [
      "########## RF ##########\n",
      "RMSE: 157.6659 (RF) \n",
      "RMSE (After): 153.6299 (RF) \n",
      "RF best params: {'max_depth': None, 'max_features': 7, 'min_samples_split': 5, 'n_estimators': 1000}\n",
      "\n",
      "########## LightGBM ##########\n",
      "RMSE: 163.6458 (LightGBM) \n",
      "RMSE (After): 157.3996 (LightGBM) \n",
      "LightGBM best params: {'colsample_bytree': 0.3, 'learning_rate': 0.001, 'n_estimators': 3000}\n",
      "\n"
     ]
    }
   ],
   "source": [
    "\n",
    "for name, regressor, params in regressors:\n",
    "    print(f\"########## {name} ##########\")\n",
    "    rmse = np.mean(np.sqrt(-cross_val_score(regressor, X, y, cv=3, scoring=\"neg_mean_squared_error\")))\n",
    "    print(f\"RMSE: {round(rmse, 4)} ({name}) \")\n",
    "\n",
    "    gs_best = GridSearchCV(regressor, params, cv=3, n_jobs=-1, verbose=False).fit(X, y)\n",
    "\n",
    "    final_model = regressor.set_params(**gs_best.best_params_)\n",
    "    rmse = np.mean(np.sqrt(-cross_val_score(final_model, X, y, cv=3, scoring=\"neg_mean_squared_error\")))\n",
    "    print(f\"RMSE (After): {round(rmse, 4)} ({name}) \")\n",
    "\n",
    "    print(f\"{name} best params: {gs_best.best_params_}\", end=\"\\n\\n\")\n",
    "\n",
    "    best_models[name] = final_model\n"
   ]
  },
  {
   "cell_type": "markdown",
   "id": "5bb65dd0",
   "metadata": {
    "papermill": {
     "duration": 0.047345,
     "end_time": "2021-11-03T08:28:11.615789",
     "exception": false,
     "start_time": "2021-11-03T08:28:11.568444",
     "status": "completed"
    },
    "tags": []
   },
   "source": [
    " # 5 Stacking & Ensemble Learning"
   ]
  },
  {
   "cell_type": "code",
   "execution_count": 26,
   "id": "af2c3d85",
   "metadata": {
    "execution": {
     "iopub.execute_input": "2021-11-03T08:28:11.718219Z",
     "iopub.status.busy": "2021-11-03T08:28:11.717536Z",
     "iopub.status.idle": "2021-11-03T08:28:43.233491Z",
     "shell.execute_reply": "2021-11-03T08:28:43.234021Z",
     "shell.execute_reply.started": "2021-11-03T06:26:01.150692Z"
    },
    "papermill": {
     "duration": 31.571217,
     "end_time": "2021-11-03T08:28:43.234191",
     "exception": false,
     "start_time": "2021-11-03T08:28:11.662974",
     "status": "completed"
    },
    "tags": []
   },
   "outputs": [
    {
     "data": {
      "text/plain": [
       "153.52732773452723"
      ]
     },
     "execution_count": 26,
     "metadata": {},
     "output_type": "execute_result"
    }
   ],
   "source": [
    "\n",
    "voting_reg = VotingRegressor(estimators=[('RF', best_models[\"RF\"]),\n",
    "                                         ('LightGBM', best_models[\"LightGBM\"])])\n",
    "\n",
    "voting_reg.fit(X, y)\n",
    "\n",
    "np.mean(np.sqrt(-cross_val_score(voting_reg,\n",
    "                                 X, y,\n",
    "                                 cv=10,\n",
    "                                 scoring=\"neg_mean_squared_error\")))\n"
   ]
  },
  {
   "cell_type": "markdown",
   "id": "0b9bb98c",
   "metadata": {
    "papermill": {
     "duration": 0.047323,
     "end_time": "2021-11-03T08:28:43.328906",
     "exception": false,
     "start_time": "2021-11-03T08:28:43.281583",
     "status": "completed"
    },
    "tags": []
   },
   "source": [
    "# 6 Prediction for a New Observation"
   ]
  },
  {
   "cell_type": "code",
   "execution_count": 27,
   "id": "5bde9265",
   "metadata": {
    "execution": {
     "iopub.execute_input": "2021-11-03T08:28:43.439242Z",
     "iopub.status.busy": "2021-11-03T08:28:43.437091Z",
     "iopub.status.idle": "2021-11-03T08:28:43.517844Z",
     "shell.execute_reply": "2021-11-03T08:28:43.518888Z",
     "shell.execute_reply.started": "2021-11-03T06:26:22.175997Z"
    },
    "papermill": {
     "duration": 0.142997,
     "end_time": "2021-11-03T08:28:43.519114",
     "exception": false,
     "start_time": "2021-11-03T08:28:43.376117",
     "status": "completed"
    },
    "tags": []
   },
   "outputs": [
    {
     "data": {
      "text/plain": [
       "array([536.77457962])"
      ]
     },
     "execution_count": 27,
     "metadata": {},
     "output_type": "execute_result"
    }
   ],
   "source": [
    "\n",
    "X.columns\n",
    "random_user = X.sample(1, random_state=45)  # 247 index y[y.index == 247] --> 560\n",
    "voting_reg.predict(random_user)"
   ]
  },
  {
   "cell_type": "code",
   "execution_count": 28,
   "id": "7d4cb2a0",
   "metadata": {
    "execution": {
     "iopub.execute_input": "2021-11-03T08:28:43.634744Z",
     "iopub.status.busy": "2021-11-03T08:28:43.630673Z",
     "iopub.status.idle": "2021-11-03T08:28:43.637639Z",
     "shell.execute_reply": "2021-11-03T08:28:43.638290Z",
     "shell.execute_reply.started": "2021-11-03T06:26:22.245071Z"
    },
    "papermill": {
     "duration": 0.064015,
     "end_time": "2021-11-03T08:28:43.638465",
     "exception": false,
     "start_time": "2021-11-03T08:28:43.574450",
     "status": "completed"
    },
    "tags": []
   },
   "outputs": [
    {
     "data": {
      "text/plain": [
       "247    560.0\n",
       "Name: Salary, dtype: float64"
      ]
     },
     "execution_count": 28,
     "metadata": {},
     "output_type": "execute_result"
    }
   ],
   "source": [
    "random_user.index\n",
    "y[y.index == 247] "
   ]
  }
 ],
 "metadata": {
  "kernelspec": {
   "display_name": "Python 3",
   "language": "python",
   "name": "python3"
  },
  "language_info": {
   "codemirror_mode": {
    "name": "ipython",
    "version": 3
   },
   "file_extension": ".py",
   "mimetype": "text/x-python",
   "name": "python",
   "nbconvert_exporter": "python",
   "pygments_lexer": "ipython3",
   "version": "3.7.10"
  },
  "papermill": {
   "default_parameters": {},
   "duration": 459.965507,
   "end_time": "2021-11-03T08:28:45.107771",
   "environment_variables": {},
   "exception": null,
   "input_path": "__notebook__.ipynb",
   "output_path": "__notebook__.ipynb",
   "parameters": {},
   "start_time": "2021-11-03T08:21:05.142264",
   "version": "2.3.3"
  }
 },
 "nbformat": 4,
 "nbformat_minor": 5
}
